{
 "cells": [
  {
   "cell_type": "markdown",
   "metadata": {},
   "source": [
    "## Constructing the Colors and Signals for 200 rounds\n"
   ]
  },
  {
   "cell_type": "markdown",
   "metadata": {},
   "source": [
    "#### Importing necessary libraries"
   ]
  },
  {
   "cell_type": "code",
   "execution_count": 44,
   "metadata": {
    "pycharm": {
     "is_executing": false
    }
   },
   "outputs": [],
   "source": [
    "import random, pandas as pd, numpy as np, sidetable"
   ]
  },
  {
   "cell_type": "markdown",
   "metadata": {},
   "source": [
    "#### Creating the Sequence"
   ]
  },
  {
   "cell_type": "code",
   "execution_count": 45,
   "metadata": {
    "pycharm": {
     "is_executing": false
    }
   },
   "outputs": [],
   "source": [
    "num_rounds = 2000 # number of rounds\n",
    "p = 55\n",
    "q = 99\n",
    "L = 50\n",
    "filename = r\"C:\\Users\\Jason Tayawa\\PycharmProjects\\overprecision_experiment\\_static\\Block1rounds.csv\"\n",
    "\n",
    "counter = 0 # initial counter\n",
    "\n",
    "def creating_color(num_rounds, counter):\n",
    "    color = np.zeros(num_rounds)\n",
    "    signal1 = np.zeros(num_rounds)\n",
    "    signal2 = np.zeros(num_rounds)\n",
    "    signal3 = np.zeros(num_rounds)\n",
    "    signal4 = np.zeros(num_rounds)\n",
    "    robotX = np.zeros(num_rounds)\n",
    "    robotY = np.zeros(num_rounds)\n",
    "    robotZ = np.zeros(num_rounds)\n",
    "    robotW = np.zeros(num_rounds)\n",
    "    for i in range(num_rounds):\n",
    "        color[i] = round(random.randint(0, 1))\n",
    "        pX = random.randint(0,100)\n",
    "        pY = random.randint(0,100)\n",
    "        pZ = random.randint(0,100)\n",
    "        pW = random.randint(0,100)\n",
    "        pL = random.randint(0,100)\n",
    "        if pX <= p:\n",
    "            robotX[i] = color[i]\n",
    "        else: \n",
    "            robotX[i] = 1 - color[i]\n",
    "        signal1[i] = robotX[i]     \n",
    "        if pY <= p:\n",
    "            robotY[i] = color[i]\n",
    "        else:\n",
    "            robotY[i] = 1- color[i]\n",
    "        signal2[i] = robotY[i]\n",
    "        if pZ <= p:\n",
    "            robotZ[i] = color[i]\n",
    "        else:\n",
    "            robotZ[i] = 1 - color[i]\n",
    "        signal3[i] = robotZ[i]\n",
    "        if pW <= q:\n",
    "            robotW[i] = color[i]\n",
    "        else:\n",
    "            robotW[i] = 1 - color[i]\n",
    "        if pL < L:\n",
    "            signal4[i] = robotW[i]\n",
    "        else:\n",
    "            signal4[i] = robotZ[i]\n",
    "            \n",
    "    \n",
    "    counter+=1\n",
    "    return [color, signal1, signal2, signal3, signal4, robotX, robotY, robotZ, robotW] "
   ]
  },
  {
   "cell_type": "markdown",
   "metadata": {},
   "source": [
    "#### Tabulating the States"
   ]
  },
  {
   "cell_type": "code",
   "execution_count": 46,
   "metadata": {
    "pycharm": {
     "is_executing": false
    }
   },
   "outputs": [],
   "source": [
    "color, signal1, signal2, signal3, signal4, robotX, robotY, robotZ, robotW = creating_color(num_rounds, counter)\n",
    "d = {'Color': color, 'Signal1': signal1, 'Signal2': signal2, 'Signal3': signal3, 'Signal4': signal4, 'RobotX': robotX, 'RobotY': robotY, 'RobotZ': robotZ, 'RobotW': robotW}\n",
    "df = pd.DataFrame(data=d)\n",
    "df.stb.freq(['Color'])\n",
    "\n",
    "df.to_csv(filename)\n",
    "\n",
    "\n"
   ]
  },
  {
   "cell_type": "code",
   "execution_count": 47,
   "metadata": {
    "pycharm": {
     "is_executing": false
    }
   },
   "outputs": [
    {
     "data": {
      "text/plain": "<pandas.io.formats.style.Styler at 0x27456128448>",
      "text/html": "<style  type=\"text/css\" >\n</style><table id=\"T_7c466_\" ><thead>    <tr>        <th class=\"blank level0\" ></th>        <th class=\"col_heading level0 col0\" >Color</th>        <th class=\"col_heading level0 col1\" >RobotW</th>        <th class=\"col_heading level0 col2\" >percent</th>        <th class=\"col_heading level0 col3\" >cumulative_RobotW</th>        <th class=\"col_heading level0 col4\" >cumulative_percent</th>    </tr></thead><tbody>\n                <tr>\n                        <th id=\"T_7c466_level0_row0\" class=\"row_heading level0 row0\" >0</th>\n                        <td id=\"T_7c466_row0_col0\" class=\"data row0 col0\" >1.000000</td>\n                        <td id=\"T_7c466_row0_col1\" class=\"data row0 col1\" >1,050</td>\n                        <td id=\"T_7c466_row0_col2\" class=\"data row0 col2\" >99.24%</td>\n                        <td id=\"T_7c466_row0_col3\" class=\"data row0 col3\" >1,050</td>\n                        <td id=\"T_7c466_row0_col4\" class=\"data row0 col4\" >99.24%</td>\n            </tr>\n            <tr>\n                        <th id=\"T_7c466_level0_row1\" class=\"row_heading level0 row1\" >1</th>\n                        <td id=\"T_7c466_row1_col0\" class=\"data row1 col0\" >0.000000</td>\n                        <td id=\"T_7c466_row1_col1\" class=\"data row1 col1\" >8</td>\n                        <td id=\"T_7c466_row1_col2\" class=\"data row1 col2\" >0.76%</td>\n                        <td id=\"T_7c466_row1_col3\" class=\"data row1 col3\" >1,058</td>\n                        <td id=\"T_7c466_row1_col4\" class=\"data row1 col4\" >100.00%</td>\n            </tr>\n    </tbody></table>"
     },
     "metadata": {},
     "output_type": "execute_result",
     "execution_count": 47
    }
   ],
   "source": [
    "df.stb.freq(['Color'], value='RobotW', style=True)"
   ]
  },
  {
   "cell_type": "code",
   "execution_count": 51,
   "metadata": {
    "pycharm": {
     "is_executing": false
    }
   },
   "outputs": [
    {
     "data": {
      "text/plain": "Signal 1  0.0                 1.0               \nSignal 2  0.0       1.0       0.0       1.0     \nSignal 3  0.0  1.0  0.0  1.0  0.0  1.0  0.0  1.0\nColor                                           \n0.0       162  137  123  100  132  101  102   84\n1.0        94  120  111  162  116  146  128  182",
      "text/html": "<div>\n<style scoped>\n    .dataframe tbody tr th:only-of-type {\n        vertical-align: middle;\n    }\n\n    .dataframe tbody tr th {\n        vertical-align: top;\n    }\n\n    .dataframe thead tr th {\n        text-align: left;\n    }\n\n    .dataframe thead tr:last-of-type th {\n        text-align: right;\n    }\n</style>\n<table border=\"1\" class=\"dataframe\">\n  <thead>\n    <tr>\n      <th>Signal 1</th>\n      <th colspan=\"4\" halign=\"left\">0.0</th>\n      <th colspan=\"4\" halign=\"left\">1.0</th>\n    </tr>\n    <tr>\n      <th>Signal 2</th>\n      <th colspan=\"2\" halign=\"left\">0.0</th>\n      <th colspan=\"2\" halign=\"left\">1.0</th>\n      <th colspan=\"2\" halign=\"left\">0.0</th>\n      <th colspan=\"2\" halign=\"left\">1.0</th>\n    </tr>\n    <tr>\n      <th>Signal 3</th>\n      <th>0.0</th>\n      <th>1.0</th>\n      <th>0.0</th>\n      <th>1.0</th>\n      <th>0.0</th>\n      <th>1.0</th>\n      <th>0.0</th>\n      <th>1.0</th>\n    </tr>\n    <tr>\n      <th>Color</th>\n      <th></th>\n      <th></th>\n      <th></th>\n      <th></th>\n      <th></th>\n      <th></th>\n      <th></th>\n      <th></th>\n    </tr>\n  </thead>\n  <tbody>\n    <tr>\n      <th>0.0</th>\n      <td>162</td>\n      <td>137</td>\n      <td>123</td>\n      <td>100</td>\n      <td>132</td>\n      <td>101</td>\n      <td>102</td>\n      <td>84</td>\n    </tr>\n    <tr>\n      <th>1.0</th>\n      <td>94</td>\n      <td>120</td>\n      <td>111</td>\n      <td>162</td>\n      <td>116</td>\n      <td>146</td>\n      <td>128</td>\n      <td>182</td>\n    </tr>\n  </tbody>\n</table>\n</div>"
     },
     "metadata": {},
     "output_type": "execute_result",
     "execution_count": 51
    }
   ],
   "source": [
    "table = pd.crosstab(color, [signal1, signal2, signal3], rownames=['Color'], colnames=['Signal 1', 'Signal 2', 'Signal 3'])\n",
    "table.to_csv('block1/Table1.csv')\n",
    "pd.crosstab(color, [signal1, signal2, signal3], rownames=['Color'], colnames=['Signal 1', 'Signal 2', 'Signal 3'])"
   ]
  },
  {
   "cell_type": "code",
   "execution_count": 49,
   "metadata": {
    "pycharm": {
     "is_executing": false
    }
   },
   "outputs": [],
   "source": [
    "states = pd.read_csv('block1/Block1rounds.csv')\n"
   ]
  },
  {
   "cell_type": "code",
   "execution_count": 50,
   "metadata": {
    "pycharm": {
     "is_executing": false
    }
   },
   "outputs": [],
   "source": [
    "# color = states['Signal1'][2-1]\n",
    "# print(color)\n",
    "# \n",
    "# print(states)"
   ]
  },
  {
   "cell_type": "code",
   "execution_count": 50,
   "metadata": {
    "pycharm": {
     "is_executing": false
    }
   },
   "outputs": [],
   "source": []
  }
 ],
 "metadata": {
  "kernelspec": {
   "display_name": "Python 3",
   "language": "python",
   "name": "python3"
  },
  "language_info": {
   "codemirror_mode": {
    "name": "ipython",
    "version": 3
   },
   "file_extension": ".py",
   "mimetype": "text/x-python",
   "name": "python",
   "nbconvert_exporter": "python",
   "pygments_lexer": "ipython3",
   "version": "3.7.9"
  },
  "pycharm": {
   "stem_cell": {
    "cell_type": "raw",
    "source": [],
    "metadata": {
     "collapsed": false
    }
   }
  }
 },
 "nbformat": 4,
 "nbformat_minor": 4
}