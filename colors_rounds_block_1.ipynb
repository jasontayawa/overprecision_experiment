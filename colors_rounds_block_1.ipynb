{
 "cells": [
  {
   "cell_type": "markdown",
   "metadata": {},
   "source": [
    "## Constructing the Colors and Signals for 200 rounds\n"
   ]
  },
  {
   "cell_type": "markdown",
   "metadata": {},
   "source": [
    "#### Importing necessary libraries"
   ]
  },
  {
   "cell_type": "code",
   "execution_count": 92,
   "metadata": {},
   "outputs": [],
   "source": [
    "import random, pandas as pd, numpy as np, sidetable"
   ]
  },
  {
   "cell_type": "markdown",
   "metadata": {},
   "source": [
    "#### Creating the Sequence"
   ]
  },
  {
   "cell_type": "code",
   "execution_count": 103,
   "metadata": {},
   "outputs": [],
   "source": [
    "num_rounds = 200 # number of rounds\n",
    "p = 55\n",
    "q = 99\n",
    "L = 50\n",
    "filename = r\"C:\\Users\\Jason Tayawa\\PycharmProjects\\overprecision_experiment\\_static\\Block1rounds.csv\"\n",
    "\n",
    "counter = 0 # initial counter\n",
    "\n",
    "def creating_color(num_rounds, counter):\n",
    "    color = np.zeros(num_rounds)\n",
    "    signal1 = np.zeros(num_rounds)\n",
    "    signal2 = np.zeros(num_rounds)\n",
    "    signal3 = np.zeros(num_rounds)\n",
    "    signal4 = np.zeros(num_rounds)\n",
    "    robotX = np.zeros(num_rounds)\n",
    "    robotY = np.zeros(num_rounds)\n",
    "    robotZ = np.zeros(num_rounds)\n",
    "    robotW = np.zeros(num_rounds)\n",
    "    for i in range(num_rounds):\n",
    "        color[i] = round(random.randint(0, 1))\n",
    "        pX = random.randint(0,100)\n",
    "        pY = random.randint(0,100)\n",
    "        pZ = random.randint(0,100)\n",
    "        pW = random.randint(0,100)\n",
    "        pL = random.randint(0,100)\n",
    "        if pX <= p:\n",
    "            robotX[i] = color[i]\n",
    "        else: \n",
    "            robotX[i] = 1 - color[i]\n",
    "        signal1[i] = robotX[i]     \n",
    "        if pY <= p:\n",
    "            robotY[i] = color[i]\n",
    "        else:\n",
    "            robotY[i] = 1- color[i]\n",
    "        signal2[i] = robotY[i]\n",
    "        if pZ <= p:\n",
    "            robotZ[i] = color[i]\n",
    "        else:\n",
    "            robotZ[i] = 1 - color[i]\n",
    "        signal3[i] = robotZ[i]\n",
    "        if pW <= q:\n",
    "            robotW[i] = color[i]\n",
    "        else:\n",
    "            robotW[i] = 1 - color[i]\n",
    "        if pL < L:\n",
    "            signal4[i] = robotW[i]\n",
    "        else:\n",
    "            signal4[i] = robotZ[i]\n",
    "            \n",
    "    \n",
    "    counter+=1\n",
    "    return [color, signal1, signal2, signal3, signal4, robotX, robotY, robotZ, robotW] "
   ]
  },
  {
   "cell_type": "markdown",
   "metadata": {},
   "source": [
    "#### Plotting the States"
   ]
  },
  {
   "cell_type": "code",
   "execution_count": 104,
   "metadata": {},
   "outputs": [],
   "source": [
    "color, signal1, signal2, signal3, signal4, robotX, robotY, robotZ, robotW = creating_color(num_rounds, counter)\n",
    "d = {'Color': color, 'Signal1': signal1, 'Signal2': signal2, 'Signal3': signal3, 'Signal4': signal4, 'RobotX': robotX, 'RobotY': robotY, 'RobotZ': robotZ, 'RobotW': robotW}\n",
    "df = pd.DataFrame(data=d)\n",
    "df.stb.freq(['Color'])\n",
    "\n",
    "df.to_csv(filename)\n",
    "\n",
    "\n"
   ]
  },
  {
   "cell_type": "code",
   "execution_count": 105,
   "metadata": {},
   "outputs": [
    {
     "data": {
      "text/html": [
       "<style  type=\"text/css\" >\n",
       "</style><table id=\"T_04d0e_\" ><thead>    <tr>        <th class=\"blank level0\" ></th>        <th class=\"col_heading level0 col0\" >Color</th>        <th class=\"col_heading level0 col1\" >RobotW</th>        <th class=\"col_heading level0 col2\" >percent</th>        <th class=\"col_heading level0 col3\" >cumulative_RobotW</th>        <th class=\"col_heading level0 col4\" >cumulative_percent</th>    </tr></thead><tbody>\n",
       "                <tr>\n",
       "                        <th id=\"T_04d0e_level0_row0\" class=\"row_heading level0 row0\" >0</th>\n",
       "                        <td id=\"T_04d0e_row0_col0\" class=\"data row0 col0\" >1.000000</td>\n",
       "                        <td id=\"T_04d0e_row0_col1\" class=\"data row0 col1\" >98</td>\n",
       "                        <td id=\"T_04d0e_row0_col2\" class=\"data row0 col2\" >100.00%</td>\n",
       "                        <td id=\"T_04d0e_row0_col3\" class=\"data row0 col3\" >98</td>\n",
       "                        <td id=\"T_04d0e_row0_col4\" class=\"data row0 col4\" >100.00%</td>\n",
       "            </tr>\n",
       "    </tbody></table>"
      ],
      "text/plain": [
       "<pandas.io.formats.style.Styler at 0x1e5e4cd0908>"
      ]
     },
     "execution_count": 105,
     "metadata": {},
     "output_type": "execute_result"
    }
   ],
   "source": [
    "df.stb.freq(['Color'], value='RobotW', style=True)"
   ]
  },
  {
   "cell_type": "code",
   "execution_count": 106,
   "metadata": {},
   "outputs": [
    {
     "data": {
      "text/html": [
       "<div>\n",
       "<style scoped>\n",
       "    .dataframe tbody tr th:only-of-type {\n",
       "        vertical-align: middle;\n",
       "    }\n",
       "\n",
       "    .dataframe tbody tr th {\n",
       "        vertical-align: top;\n",
       "    }\n",
       "\n",
       "    .dataframe thead tr th {\n",
       "        text-align: left;\n",
       "    }\n",
       "\n",
       "    .dataframe thead tr:last-of-type th {\n",
       "        text-align: right;\n",
       "    }\n",
       "</style>\n",
       "<table border=\"1\" class=\"dataframe\">\n",
       "  <thead>\n",
       "    <tr>\n",
       "      <th>Signal 1</th>\n",
       "      <th colspan=\"4\" halign=\"left\">0.0</th>\n",
       "      <th colspan=\"4\" halign=\"left\">1.0</th>\n",
       "    </tr>\n",
       "    <tr>\n",
       "      <th>Signal 2</th>\n",
       "      <th colspan=\"2\" halign=\"left\">0.0</th>\n",
       "      <th colspan=\"2\" halign=\"left\">1.0</th>\n",
       "      <th colspan=\"2\" halign=\"left\">0.0</th>\n",
       "      <th colspan=\"2\" halign=\"left\">1.0</th>\n",
       "    </tr>\n",
       "    <tr>\n",
       "      <th>Signal 3</th>\n",
       "      <th>0.0</th>\n",
       "      <th>1.0</th>\n",
       "      <th>0.0</th>\n",
       "      <th>1.0</th>\n",
       "      <th>0.0</th>\n",
       "      <th>1.0</th>\n",
       "      <th>0.0</th>\n",
       "      <th>1.0</th>\n",
       "    </tr>\n",
       "    <tr>\n",
       "      <th>Color</th>\n",
       "      <th></th>\n",
       "      <th></th>\n",
       "      <th></th>\n",
       "      <th></th>\n",
       "      <th></th>\n",
       "      <th></th>\n",
       "      <th></th>\n",
       "      <th></th>\n",
       "    </tr>\n",
       "  </thead>\n",
       "  <tbody>\n",
       "    <tr>\n",
       "      <th>0.0</th>\n",
       "      <td>22</td>\n",
       "      <td>11</td>\n",
       "      <td>9</td>\n",
       "      <td>10</td>\n",
       "      <td>16</td>\n",
       "      <td>14</td>\n",
       "      <td>12</td>\n",
       "      <td>8</td>\n",
       "    </tr>\n",
       "    <tr>\n",
       "      <th>1.0</th>\n",
       "      <td>7</td>\n",
       "      <td>11</td>\n",
       "      <td>14</td>\n",
       "      <td>16</td>\n",
       "      <td>7</td>\n",
       "      <td>16</td>\n",
       "      <td>11</td>\n",
       "      <td>16</td>\n",
       "    </tr>\n",
       "  </tbody>\n",
       "</table>\n",
       "</div>"
      ],
      "text/plain": [
       "Signal 1 0.0             1.0            \n",
       "Signal 2 0.0     1.0     0.0     1.0    \n",
       "Signal 3 0.0 1.0 0.0 1.0 0.0 1.0 0.0 1.0\n",
       "Color                                   \n",
       "0.0       22  11   9  10  16  14  12   8\n",
       "1.0        7  11  14  16   7  16  11  16"
      ]
     },
     "execution_count": 106,
     "metadata": {},
     "output_type": "execute_result"
    }
   ],
   "source": [
    "pd.crosstab(color, [signal1, signal2, signal3], rownames=['Color'], colnames=['Signal 1', 'Signal 2', 'Signal 3'])"
   ]
  },
  {
   "cell_type": "code",
   "execution_count": null,
   "metadata": {},
   "outputs": [],
   "source": []
  },
  {
   "cell_type": "code",
   "execution_count": null,
   "metadata": {},
   "outputs": [],
   "source": []
  },
  {
   "cell_type": "code",
   "execution_count": null,
   "metadata": {},
   "outputs": [],
   "source": []
  }
 ],
 "metadata": {
  "kernelspec": {
   "display_name": "Python 3",
   "language": "python",
   "name": "python3"
  },
  "language_info": {
   "codemirror_mode": {
    "name": "ipython",
    "version": 3
   },
   "file_extension": ".py",
   "mimetype": "text/x-python",
   "name": "python",
   "nbconvert_exporter": "python",
   "pygments_lexer": "ipython3",
   "version": "3.7.9"
  }
 },
 "nbformat": 4,
 "nbformat_minor": 4
}