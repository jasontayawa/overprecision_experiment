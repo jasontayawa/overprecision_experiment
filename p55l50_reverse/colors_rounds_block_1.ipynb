{
 "cells": [
  {
   "cell_type": "markdown",
   "metadata": {},
   "source": [
    "## Constructing the Colors and Signals for 60 rounds\n"
   ]
  },
  {
   "cell_type": "markdown",
   "metadata": {},
   "source": [
    "#### Importing necessary libraries"
   ]
  },
  {
   "cell_type": "code",
   "execution_count": 32,
   "metadata": {},
   "outputs": [],
   "source": [
    "import random, pandas as pd, numpy as np, sidetable"
   ]
  },
  {
   "cell_type": "markdown",
   "metadata": {},
   "source": [
    "#### Creating the Sequence\n",
    "\n",
    "This function"
   ]
  },
  {
   "cell_type": "code",
   "execution_count": 33,
   "metadata": {},
   "outputs": [],
   "source": [
    "num_rounds = 3000 # number of rounds\n",
    "p = 55\n",
    "pz = 50 # for the reverse treatment\n",
    "q = 99\n",
    "L = 50\n",
    "filename = r\"C:\\Users\\Jason Tayawa\\PycharmProjects\\overprecision_experiment\\p55l50_reverse\\rounds_p55l50.csv\"\n",
    "\n",
    "counter = 0 # initial counter\n",
    "\n",
    "def creating_color(num_rounds, counter):\n",
    "    color = np.zeros(num_rounds)\n",
    "    signal1 = np.zeros(num_rounds)\n",
    "    signal2 = np.zeros(num_rounds)\n",
    "    signal3 = np.zeros(num_rounds)\n",
    "    signal4 = np.zeros(num_rounds)\n",
    "    robotX = np.zeros(num_rounds)\n",
    "    robotY = np.zeros(num_rounds)\n",
    "    robotZ = np.zeros(num_rounds)\n",
    "    robotW = np.zeros(num_rounds)\n",
    "    for i in range(num_rounds):\n",
    "        color[i] = round(random.randint(0, 1))\n",
    "        pX = random.randint(0,100)\n",
    "        pY = random.randint(0,100)\n",
    "        pZ = random.randint(0,100)\n",
    "        pW = random.randint(0,100)\n",
    "        pL = random.randint(0,100)\n",
    "        if pX <= p:\n",
    "            robotX[i] = color[i]\n",
    "        else: \n",
    "            robotX[i] = 1 - color[i]\n",
    "        signal1[i] = robotX[i]     \n",
    "        if pY <= p:\n",
    "            robotY[i] = color[i]\n",
    "        else:\n",
    "            robotY[i] = 1- color[i]\n",
    "        signal2[i] = robotY[i]\n",
    "        if pZ <= pz:\n",
    "            robotZ[i] = color[i]\n",
    "        else:\n",
    "            robotZ[i] = 1 - color[i]\n",
    "        signal3[i] = robotZ[i]\n",
    "        if pW <= q:\n",
    "            robotW[i] = color[i]\n",
    "        else:\n",
    "            robotW[i] = 1 - color[i]\n",
    "        if pL < L:\n",
    "            signal4[i] = robotW[i]\n",
    "        else:\n",
    "            signal4[i] = robotZ[i]\n",
    "            \n",
    "    \n",
    "    counter+=1\n",
    "    return [color, signal1, signal2, signal3, signal4, robotX, robotY, robotZ, robotW] "
   ]
  },
  {
   "cell_type": "markdown",
   "metadata": {},
   "source": [
    "#### Tabulating the States"
   ]
  },
  {
   "cell_type": "code",
   "execution_count": 34,
   "metadata": {},
   "outputs": [],
   "source": [
    "color, signal1, signal2, signal3, signal4, robotX, robotY, robotZ, robotW = creating_color(num_rounds, counter)\n",
    "d = {'Color': color, 'Signal1': signal1, 'Signal2': signal2, 'Signal3': signal3, 'Signal4': signal4, 'RobotX': robotX, 'RobotY': robotY, 'RobotZ': robotZ, 'RobotW': robotW}\n",
    "df = pd.DataFrame(data=d)\n",
    "df.stb.freq(['Color'])\n",
    "\n",
    "df.to_csv(filename)\n",
    "\n",
    "\n"
   ]
  },
  {
   "cell_type": "code",
   "execution_count": 35,
   "metadata": {},
   "outputs": [
    {
     "data": {
      "text/plain": "<pandas.io.formats.style.Styler at 0x179a93b3070>",
      "text/html": "<style  type=\"text/css\" >\n</style><table id=\"T_cb505_\" ><thead>    <tr>        <th class=\"blank level0\" ></th>        <th class=\"col_heading level0 col0\" >Color</th>        <th class=\"col_heading level0 col1\" >RobotW</th>        <th class=\"col_heading level0 col2\" >percent</th>        <th class=\"col_heading level0 col3\" >cumulative_RobotW</th>        <th class=\"col_heading level0 col4\" >cumulative_percent</th>    </tr></thead><tbody>\n                <tr>\n                        <th id=\"T_cb505_level0_row0\" class=\"row_heading level0 row0\" >0</th>\n                        <td id=\"T_cb505_row0_col0\" class=\"data row0 col0\" >1.000000</td>\n                        <td id=\"T_cb505_row0_col1\" class=\"data row0 col1\" >1,496</td>\n                        <td id=\"T_cb505_row0_col2\" class=\"data row0 col2\" >98.88%</td>\n                        <td id=\"T_cb505_row0_col3\" class=\"data row0 col3\" >1,496</td>\n                        <td id=\"T_cb505_row0_col4\" class=\"data row0 col4\" >98.88%</td>\n            </tr>\n            <tr>\n                        <th id=\"T_cb505_level0_row1\" class=\"row_heading level0 row1\" >1</th>\n                        <td id=\"T_cb505_row1_col0\" class=\"data row1 col0\" >0.000000</td>\n                        <td id=\"T_cb505_row1_col1\" class=\"data row1 col1\" >17</td>\n                        <td id=\"T_cb505_row1_col2\" class=\"data row1 col2\" >1.12%</td>\n                        <td id=\"T_cb505_row1_col3\" class=\"data row1 col3\" >1,513</td>\n                        <td id=\"T_cb505_row1_col4\" class=\"data row1 col4\" >100.00%</td>\n            </tr>\n    </tbody></table>"
     },
     "execution_count": 35,
     "metadata": {},
     "output_type": "execute_result"
    }
   ],
   "source": [
    "df.stb.freq(['Color'], value='RobotW', style=True)"
   ]
  },
  {
   "cell_type": "code",
   "execution_count": 36,
   "metadata": {},
   "outputs": [
    {
     "data": {
      "text/plain": "Signal 1  0.0                 1.0               \nSignal 2  0.0       1.0       0.0       1.0     \nSignal 3  0.0  1.0  0.0  1.0  0.0  1.0  0.0  1.0\nColor                                           \n0.0       254  230  194  175  170  175  166  127\n1.0       158  145  174  213  186  206  222  205",
      "text/html": "<div>\n<style scoped>\n    .dataframe tbody tr th:only-of-type {\n        vertical-align: middle;\n    }\n\n    .dataframe tbody tr th {\n        vertical-align: top;\n    }\n\n    .dataframe thead tr th {\n        text-align: left;\n    }\n\n    .dataframe thead tr:last-of-type th {\n        text-align: right;\n    }\n</style>\n<table border=\"1\" class=\"dataframe\">\n  <thead>\n    <tr>\n      <th>Signal 1</th>\n      <th colspan=\"4\" halign=\"left\">0.0</th>\n      <th colspan=\"4\" halign=\"left\">1.0</th>\n    </tr>\n    <tr>\n      <th>Signal 2</th>\n      <th colspan=\"2\" halign=\"left\">0.0</th>\n      <th colspan=\"2\" halign=\"left\">1.0</th>\n      <th colspan=\"2\" halign=\"left\">0.0</th>\n      <th colspan=\"2\" halign=\"left\">1.0</th>\n    </tr>\n    <tr>\n      <th>Signal 3</th>\n      <th>0.0</th>\n      <th>1.0</th>\n      <th>0.0</th>\n      <th>1.0</th>\n      <th>0.0</th>\n      <th>1.0</th>\n      <th>0.0</th>\n      <th>1.0</th>\n    </tr>\n    <tr>\n      <th>Color</th>\n      <th></th>\n      <th></th>\n      <th></th>\n      <th></th>\n      <th></th>\n      <th></th>\n      <th></th>\n      <th></th>\n    </tr>\n  </thead>\n  <tbody>\n    <tr>\n      <th>0.0</th>\n      <td>254</td>\n      <td>230</td>\n      <td>194</td>\n      <td>175</td>\n      <td>170</td>\n      <td>175</td>\n      <td>166</td>\n      <td>127</td>\n    </tr>\n    <tr>\n      <th>1.0</th>\n      <td>158</td>\n      <td>145</td>\n      <td>174</td>\n      <td>213</td>\n      <td>186</td>\n      <td>206</td>\n      <td>222</td>\n      <td>205</td>\n    </tr>\n  </tbody>\n</table>\n</div>"
     },
     "execution_count": 36,
     "metadata": {},
     "output_type": "execute_result"
    }
   ],
   "source": [
    "table = pd.crosstab(color, [signal1, signal2, signal3], rownames=['Color'], colnames=['Signal 1', 'Signal 2', 'Signal 3'])\n",
    "table.to_csv('Table1.csv')\n",
    "pd.crosstab(color, [signal1, signal2, signal3], rownames=['Color'], colnames=['Signal 1', 'Signal 2', 'Signal 3'])"
   ]
  },
  {
   "cell_type": "code",
   "execution_count": 37,
   "metadata": {},
   "outputs": [],
   "source": [
    "states = pd.read_csv('rounds_p55l50.csv')\n"
   ]
  },
  {
   "cell_type": "code",
   "execution_count": 38,
   "metadata": {},
   "outputs": [],
   "source": [
    "# color = states['Signal1'][2-1]\n",
    "# print(color)\n",
    "# \n",
    "# print(states)\n"
   ]
  },
  {
   "cell_type": "markdown",
   "metadata": {},
   "source": [
    "#### Trying to come up with counting data\n"
   ]
  },
  {
   "cell_type": "code",
   "execution_count": 39,
   "metadata": {},
   "outputs": [
    {
     "data": {
      "text/plain": "205"
     },
     "execution_count": 39,
     "metadata": {},
     "output_type": "execute_result"
    }
   ],
   "source": [
    "df[(df.Color == 1) & (df.Signal1 == 1) & (df.Signal2 == 1) & (df.Signal3 == 1)].count()['Color']"
   ]
  },
  {
   "cell_type": "code",
   "execution_count": 40,
   "metadata": {},
   "outputs": [
    {
     "data": {
      "text/plain": "222"
     },
     "execution_count": 40,
     "metadata": {},
     "output_type": "execute_result"
    }
   ],
   "source": [
    "df[(df.Color == 1) & (df.Signal1 == 1) & (df.Signal2 == 1) & (df.Signal3 == 0)].count()['Color']"
   ]
  },
  {
   "cell_type": "code",
   "execution_count": 41,
   "metadata": {},
   "outputs": [
    {
     "data": {
      "text/plain": "206"
     },
     "execution_count": 41,
     "metadata": {},
     "output_type": "execute_result"
    }
   ],
   "source": [
    "df[(df.Color == 1) & (df.Signal1 == 1) & (df.Signal2 == 0) & (df.Signal3 == 1)].count()['Color']"
   ]
  },
  {
   "cell_type": "code",
   "execution_count": 42,
   "metadata": {},
   "outputs": [
    {
     "data": {
      "text/plain": "213"
     },
     "execution_count": 42,
     "metadata": {},
     "output_type": "execute_result"
    }
   ],
   "source": [
    "df[(df.Color == 1) & (df.Signal1 == 0) & (df.Signal2 == 1) & (df.Signal3 == 1)].count()['Color']"
   ]
  },
  {
   "cell_type": "code",
   "execution_count": 43,
   "metadata": {},
   "outputs": [
    {
     "data": {
      "text/plain": "186"
     },
     "execution_count": 43,
     "metadata": {},
     "output_type": "execute_result"
    }
   ],
   "source": [
    "df[(df.Color == 1) & (df.Signal1 == 1) & (df.Signal2 == 0) & (df.Signal3 == 0)].count()['Color']"
   ]
  },
  {
   "cell_type": "code",
   "execution_count": 44,
   "metadata": {},
   "outputs": [
    {
     "data": {
      "text/plain": "174"
     },
     "execution_count": 44,
     "metadata": {},
     "output_type": "execute_result"
    }
   ],
   "source": [
    "df[(df.Color == 1) & (df.Signal1 == 0) & (df.Signal2 == 1) & (df.Signal3 == 0)].count()['Color']"
   ]
  },
  {
   "cell_type": "code",
   "execution_count": 45,
   "metadata": {},
   "outputs": [
    {
     "data": {
      "text/plain": "145"
     },
     "execution_count": 45,
     "metadata": {},
     "output_type": "execute_result"
    }
   ],
   "source": [
    "df[(df.Color == 1) & (df.Signal1 == 0) & (df.Signal2 == 0) & (df.Signal3 == 1)].count()['Color']"
   ]
  },
  {
   "cell_type": "code",
   "execution_count": 46,
   "metadata": {},
   "outputs": [
    {
     "data": {
      "text/plain": "158"
     },
     "execution_count": 46,
     "metadata": {},
     "output_type": "execute_result"
    }
   ],
   "source": [
    "df[(df.Color == 1) & (df.Signal1 == 0) & (df.Signal2 == 0) & (df.Signal3 == 0)].count()['Color']"
   ]
  },
  {
   "cell_type": "code",
   "execution_count": 47,
   "metadata": {},
   "outputs": [
    {
     "data": {
      "text/plain": "127"
     },
     "execution_count": 47,
     "metadata": {},
     "output_type": "execute_result"
    }
   ],
   "source": [
    "df[(df.Color == 0) & (df.Signal1 == 1) & (df.Signal2 == 1) & (df.Signal3 == 1)].count()['Color']"
   ]
  },
  {
   "cell_type": "code",
   "execution_count": 48,
   "metadata": {},
   "outputs": [
    {
     "data": {
      "text/plain": "166"
     },
     "execution_count": 48,
     "metadata": {},
     "output_type": "execute_result"
    }
   ],
   "source": [
    "df[(df.Color == 0) & (df.Signal1 == 1) & (df.Signal2 == 1) & (df.Signal3 == 0)].count()['Color']"
   ]
  },
  {
   "cell_type": "code",
   "execution_count": 49,
   "metadata": {},
   "outputs": [
    {
     "data": {
      "text/plain": "175"
     },
     "execution_count": 49,
     "metadata": {},
     "output_type": "execute_result"
    }
   ],
   "source": [
    "df[(df.Color == 0) & (df.Signal1 == 1) & (df.Signal2 == 0) & (df.Signal3 == 1)].count()['Color']"
   ]
  },
  {
   "cell_type": "code",
   "execution_count": 50,
   "metadata": {},
   "outputs": [
    {
     "data": {
      "text/plain": "175"
     },
     "execution_count": 50,
     "metadata": {},
     "output_type": "execute_result"
    }
   ],
   "source": [
    "df[(df.Color == 0) & (df.Signal1 == 0) & (df.Signal2 == 1) & (df.Signal3 == 1)].count()['Color']"
   ]
  },
  {
   "cell_type": "code",
   "execution_count": 51,
   "metadata": {},
   "outputs": [
    {
     "data": {
      "text/plain": "170"
     },
     "execution_count": 51,
     "metadata": {},
     "output_type": "execute_result"
    }
   ],
   "source": [
    "df[(df.Color == 0) & (df.Signal1 == 1) & (df.Signal2 == 0) & (df.Signal3 == 0)].count()['Color']"
   ]
  },
  {
   "cell_type": "code",
   "execution_count": 52,
   "metadata": {},
   "outputs": [
    {
     "data": {
      "text/plain": "194"
     },
     "execution_count": 52,
     "metadata": {},
     "output_type": "execute_result"
    }
   ],
   "source": [
    "df[(df.Color == 0) & (df.Signal1 == 0) & (df.Signal2 == 1) & (df.Signal3 == 0)].count()['Color']"
   ]
  },
  {
   "cell_type": "code",
   "execution_count": 53,
   "metadata": {},
   "outputs": [
    {
     "data": {
      "text/plain": "230"
     },
     "execution_count": 53,
     "metadata": {},
     "output_type": "execute_result"
    }
   ],
   "source": [
    "df[(df.Color == 0) & (df.Signal1 == 0) & (df.Signal2 == 0) & (df.Signal3 == 1)].count()['Color']"
   ]
  },
  {
   "cell_type": "code",
   "execution_count": 54,
   "metadata": {},
   "outputs": [
    {
     "data": {
      "text/plain": "254"
     },
     "execution_count": 54,
     "metadata": {},
     "output_type": "execute_result"
    }
   ],
   "source": [
    "df[(df.Color == 0) & (df.Signal1 == 0) & (df.Signal2 == 0) & (df.Signal3 == 0)].count()['Color']"
   ]
  },
  {
   "cell_type": "code",
   "execution_count": 54,
   "metadata": {},
   "outputs": [],
   "source": []
  },
  {
   "cell_type": "code",
   "execution_count": 54,
   "metadata": {},
   "outputs": [],
   "source": []
  }
 ],
 "metadata": {
  "kernelspec": {
   "display_name": "Python 3",
   "language": "python",
   "name": "python3"
  },
  "language_info": {
   "codemirror_mode": {
    "name": "ipython",
    "version": 3
   },
   "file_extension": ".py",
   "mimetype": "text/x-python",
   "name": "python",
   "nbconvert_exporter": "python",
   "pygments_lexer": "ipython3",
   "version": "3.8.3"
  }
 },
 "nbformat": 4,
 "nbformat_minor": 4
}